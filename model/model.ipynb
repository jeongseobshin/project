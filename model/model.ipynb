{
  "nbformat": 4,
  "nbformat_minor": 0,
  "metadata": {
    "colab": {
      "name": "cardio_model.ipynb",
      "provenance": [],
      "collapsed_sections": []
    },
    "kernelspec": {
      "name": "python3",
      "display_name": "Python 3.8.5 64-bit"
    },
    "language_info": {
      "name": "python",
      "version": "3.8.5"
    },
    "interpreter": {
      "hash": "d4c9e9b11abaf086aa929e413c081d4a461c583f5d45575464a9d4de5eba6b42"
    }
  },
  "cells": [
    {
      "cell_type": "code",
      "metadata": {
        "id": "4XIFoiamZhCf"
      },
      "source": [
        "# 1. 사용할 패키지 불러오기\n",
        "import numpy as np\n",
        "import pandas as pd\n",
        "from keras.models import load_model"
      ],
      "execution_count": 1,
      "outputs": []
    },
    {
      "cell_type": "code",
      "metadata": {
        "id": "HkL6Q0nnZymW"
      },
      "source": [
        "# 2. 모델 불러오기\n",
        "model_bp = load_model('bp_predict(99.6).h5')\n",
        "model_chole = load_model('chole_gluc_predict(96).h5')\n",
        "model_cardio = load_model('cardio_predict(72).h5')\n",
        "# model.summary()"
      ],
      "execution_count": 2,
      "outputs": []
    },
    {
      "cell_type": "code",
      "metadata": {
        "id": "t3lk9dwuZ2YM",
        "colab": {
          "base_uri": "https://localhost:8080/"
        },
        "outputId": "fad75336-5d57-4d7c-f5ad-7c23dc3e0cb6"
      },
      "source": [
        "# 3. 혈압 예측 모델\n",
        "info_bp = list(map(int, input().split())) #나이,성별,키,몸무게,흡연,음주,운동 입력\n",
        "\n",
        "# info_bp = [31, 1, 176, 75, 0, 0, 1]\n",
        "info_bp = np.reshape(info_bp,(1,7))\n",
        "print('나이,성별,키,몸무게,흡연,음주,운동 : ', info_bp)\n",
        "predict_bp = model_bp.predict(info_bp) # 모델예측\n",
        "print('예상 혈압 수치 : ' , predict_bp)"
      ],
      "execution_count": 3,
      "outputs": [
        {
          "output_type": "stream",
          "name": "stdout",
          "text": [
            "나이,성별,키,몸무게,흡연,음주,운동 :  [[ 31   1 176  75   0   0   1]]\n",
            "예상 혈압 수치 :  [[118.24945   78.464966]]\n"
          ]
        }
      ]
    },
    {
      "cell_type": "code",
      "metadata": {
        "id": "gXC6UpBwzsN1",
        "colab": {
          "base_uri": "https://localhost:8080/"
        },
        "outputId": "61d172ee-c165-463e-ab9b-08a52c3449dd"
      },
      "source": [
        "#3-1.혈압을 정보에 추가\n",
        "info_bp = pd.DataFrame(info_bp, )\n",
        "info_bp.to_csv('info_bp1.csv',index=False, header=False)\n",
        "info_bp1 = pd.read_csv('info_bp1.csv')\n",
        "\n",
        "predict_bp = pd.DataFrame(predict_bp, )\n",
        "predict_bp.to_csv('predict_bp1.csv',index=False, header=False)\n",
        "predict_bp1 = pd.read_csv('predict_bp1.csv')\n",
        "\n",
        "print(info_bp1)\n",
        "print(predict_bp1)"
      ],
      "execution_count": 4,
      "outputs": [
        {
          "output_type": "stream",
          "name": "stdout",
          "text": [
            "Empty DataFrame\nColumns: [31, 1, 176, 75, 0, 0.1, 1.1]\nIndex: []\nEmpty DataFrame\nColumns: [118.24945, 78.464966]\nIndex: []\n"
          ]
        }
      ]
    },
    {
      "cell_type": "code",
      "metadata": {
        "id": "8y74fYmNzsf-",
        "colab": {
          "base_uri": "https://localhost:8080/"
        },
        "outputId": "5f248f1a-de74-4d21-a72b-979e7681095d"
      },
      "source": [
        "#혈압 -> 콜레스테롤 포도당 데이터 변환\n",
        "info_bp1 = list(map(float,info_bp1))\n",
        "predict_bp1 = list(map(float,predict_bp1))\n",
        "\n",
        "info_bp1[4:4] = predict_bp1\n",
        "info_chole =  info_bp1\n",
        "print(info_chole)"
      ],
      "execution_count": 5,
      "outputs": [
        {
          "output_type": "stream",
          "name": "stdout",
          "text": [
            "[31.0, 1.0, 176.0, 75.0, 118.24945, 78.464966, 0.0, 0.1, 1.1]\n"
          ]
        }
      ]
    },
    {
      "cell_type": "code",
      "metadata": {
        "id": "_zRHAICKmF_I",
        "colab": {
          "base_uri": "https://localhost:8080/"
        },
        "outputId": "e12e35e1-f772-43ba-ed96-faf75b39998c"
      },
      "source": [
        "#콜레스테롤 포도당 예측 모델\n",
        "# info_chole = list(map(int, input().split()))\n",
        "\n",
        "# info_chole = [31, 1, 176, 75, 120, 80, 0, 0, 1]\n",
        "info_chole = np.reshape(info_chole,(1,9))\n",
        "print('나이,성별,키,몸무게,수축기압,이완기압,흡연,음주,운동 : ', info_chole)\n",
        "predict_chole = model_chole.predict(info_chole)\n",
        "print('예상 콜레스테롤 포도당 수치 : ' , predict_chole)"
      ],
      "execution_count": 6,
      "outputs": [
        {
          "output_type": "stream",
          "name": "stdout",
          "text": [
            "나이,성별,키,몸무게,수축기압,이완기압,흡연,음주,운동 :  [[3.1000000e+01 1.0000000e+00 1.7600000e+02 7.5000000e+01 1.1824945e+02\n",
            "  7.8464966e+01 0.0000000e+00 1.0000000e-01 1.1000000e+00]]\n",
            "예상 콜레스테롤 포도당 수치 :  [[1.1185758 1.0428145]]\n"
          ]
        }
      ]
    },
    {
      "cell_type": "code",
      "metadata": {
        "id": "-scck_zB0L6D",
        "colab": {
          "base_uri": "https://localhost:8080/"
        },
        "outputId": "cd771032-948d-4794-a638-8cd95b2765e8"
      },
      "source": [
        "#콜레스테롤 포도당을 정보에 추가\n",
        "info_chole = pd.DataFrame(info_chole, )\n",
        "info_chole.to_csv('info_chole1.csv',index=False, header=False)\n",
        "info_chole1 = pd.read_csv('info_chole1.csv')\n",
        "\n",
        "predict_chole = pd.DataFrame(predict_chole, )\n",
        "predict_chole.to_csv('predict_chole1.csv',index=False, header=False)\n",
        "predict_chole1 = pd.read_csv('predict_chole1.csv')\n",
        "\n",
        "print(info_chole1)\n",
        "print(predict_chole1)"
      ],
      "execution_count": 7,
      "outputs": [
        {
          "output_type": "stream",
          "name": "stdout",
          "text": [
            "Empty DataFrame\nColumns: [31.0, 1.0, 176.0, 75.0, 118.24945, 78.464966, 0.0, 0.1, 1.1]\nIndex: []\nEmpty DataFrame\nColumns: [1.1185758, 1.0428145]\nIndex: []\n"
          ]
        }
      ]
    },
    {
      "cell_type": "code",
      "metadata": {
        "id": "TrRntl3f0L-I",
        "colab": {
          "base_uri": "https://localhost:8080/"
        },
        "outputId": "1114c8d0-7fba-4f4d-b4a5-9eb7e2faf392"
      },
      "source": [
        "#콜레스테롤 포도당 -> 심장예측데이터 변환\n",
        "info_chole1 = list(map(float,info_chole1))\n",
        "predict_chole1 = list(map(float,predict_chole1))\n",
        "\n",
        "info_chole1[6:6] = predict_chole1\n",
        "info_cardio = info_chole1\n",
        "print(info_cardio)"
      ],
      "execution_count": 8,
      "outputs": [
        {
          "output_type": "stream",
          "name": "stdout",
          "text": [
            "[31.0, 1.0, 176.0, 75.0, 118.24945, 78.464966, 1.1185758, 1.0428145, 0.0, 0.1, 1.1]\n"
          ]
        }
      ]
    },
    {
      "cell_type": "code",
      "metadata": {
        "id": "OSJHQDCbnDO_",
        "colab": {
          "base_uri": "https://localhost:8080/"
        },
        "outputId": "2ff94604-c5bf-4321-c03e-6631b6af29c8"
      },
      "source": [
        "# 3. 심질환 예측 모델\n",
        "# info_cardio = list(map(int, input().split()))\n",
        "\n",
        "# info_cardio = [31, 1, 176, 75, 120, 80, 1, 1,0, 0, 1]\n",
        "info_cardio = np.reshape(info_cardio,(1,11))\n",
        "print('나이,성별,키,몸무게,수축기압,이완기압,콜레스테롤,포도당,흡연,음주,운동 : ', info_cardio)\n",
        "predict_cardio = model_cardio.predict(info_cardio)\n",
        "\n",
        "print('예상 혈압 수치 : ', predict_bp1)\n",
        "print('예상 콜레스테롤, 포도당 수치 : ', predict_chole1)\n",
        "print('예상 심질환 발생률 : ' , predict_cardio)"
      ],
      "execution_count": 9,
      "outputs": [
        {
          "output_type": "stream",
          "name": "stdout",
          "text": [
            "나이,성별,키,몸무게,수축기압,이완기압,콜레스테롤,포도당,흡연,음주,운동 :  [[3.1000000e+01 1.0000000e+00 1.7600000e+02 7.5000000e+01 1.1824945e+02\n",
            "  7.8464966e+01 1.1185758e+00 1.0428145e+00 0.0000000e+00 1.0000000e-01\n",
            "  1.1000000e+00]]\n",
            "예상 혈압 수치 :  [118.24945, 78.464966]\n",
            "예상 콜레스테롤, 포도당 수치 :  [1.1185758, 1.0428145]\n",
            "예상 심질환 발생률 :  [[0.06900501]]\n"
          ]
        }
      ]
    },
    {
      "cell_type": "code",
      "metadata": {
        "colab": {
          "base_uri": "https://localhost:8080/"
        },
        "id": "gFS06aHFIBQH",
        "outputId": "cde62bb1-b809-42a7-d52e-85ac3be07644"
      },
      "source": [
        "##심질환 데이터 변환\n",
        "predict_cardio = pd.DataFrame(predict_cardio, )\n",
        "predict_cardio.to_csv('predict_cardio1.csv',index=False, header=False)\n",
        "predict_cardio1 = pd.read_csv('predict_cardio1.csv')\n",
        "\n",
        "predict_cardio1 = list(map(float,predict_cardio1))\n",
        "predict_cardio1 = np.array(predict_cardio1)\n",
        "predict_cardio1 = predict_cardio1 *100\n",
        "print(predict_cardio1)"
      ],
      "execution_count": 19,
      "outputs": [
        {
          "output_type": "stream",
          "name": "stdout",
          "text": [
            "[6.900501]\n"
          ]
        }
      ]
    },
    {
      "cell_type": "code",
      "metadata": {
        "colab": {
          "base_uri": "https://localhost:8080/"
        },
        "id": "uf7hE1S2JnFh",
        "outputId": "ae39b718-27dd-4eb0-b4e8-6ecd44e91407"
      },
      "source": [
        "#심질환 위험도 측정\n",
        "def predict(n):\n",
        "    if n <= 29.99:\n",
        "        print('정상입니다.')\n",
        "    elif 30 <= n <= 49.99:\n",
        "        print('주의! 6개월안에 검진 받아보세요.') #6개월\n",
        "    elif 50 <= n <= 69.99:\n",
        "        print('경고! 3개월안에 검진 받아보세요.') #3개월\n",
        "    else:\n",
        "        print('위험! 1개월안에 검진 받아보세요') #1개월\n",
        "predict(predict_cardio1)"
      ],
      "execution_count": 20,
      "outputs": [
        {
          "output_type": "stream",
          "name": "stdout",
          "text": [
            "정상입니다.\n"
          ]
        }
      ]
    }
  ]
}